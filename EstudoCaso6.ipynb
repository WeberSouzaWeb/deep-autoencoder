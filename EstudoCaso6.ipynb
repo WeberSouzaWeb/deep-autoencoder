{
 "cells": [
  {
   "cell_type": "markdown",
   "metadata": {},
   "source": [
    "# <font color='blue'>Data Science Academy</font>\n",
    "# <font color='blue'>Deep Learning Para Aplicações de IA com PyTorch e Lightning</font>\n",
    "\n",
    "## <font color='blue'>Estudo de Caso 6</font>\n",
    "## <font color='blue'>Sistema de Similaridade de Imagens com Deep Autoencoders</font>"
   ]
  },
  {
   "cell_type": "markdown",
   "metadata": {},
   "source": [
    "![DSA](imagens/EC6.png)"
   ]
  },
  {
   "cell_type": "markdown",
   "metadata": {},
   "source": [
    "## Instalando e Carregando os Pacotes"
   ]
  },
  {
   "cell_type": "code",
   "execution_count": 1,
   "metadata": {},
   "outputs": [
    {
     "name": "stdout",
     "output_type": "stream",
     "text": [
      "Versão da Linguagem Python Usada Neste Jupyter Notebook: 3.10.9\n"
     ]
    }
   ],
   "source": [
    "# Versão da Linguagem Python\n",
    "from platform import python_version\n",
    "print('Versão da Linguagem Python Usada Neste Jupyter Notebook:', python_version())"
   ]
  },
  {
   "cell_type": "code",
   "execution_count": null,
   "metadata": {},
   "outputs": [],
   "source": [
    "# Para atualizar um pacote, execute o comando abaixo no terminal ou prompt de comando:\n",
    "# pip install -U nome_pacote\n",
    "\n",
    "# Para instalar a versão exata de um pacote, execute o comando abaixo no terminal ou prompt de comando:\n",
    "# !pip install nome_pacote==versão_desejada\n",
    "\n",
    "# Depois de instalar ou atualizar o pacote, reinicie o jupyter notebook.\n",
    "\n",
    "# Instala o pacote watermark. \n",
    "# Esse pacote é usado para gravar as versões de outros pacotes usados neste jupyter notebook.\n",
    "#!pip install -q -U watermark"
   ]
  },
  {
   "cell_type": "code",
   "execution_count": 2,
   "metadata": {},
   "outputs": [
    {
     "name": "stdout",
     "output_type": "stream",
     "text": [
      "env: TF_CPP_MIN_LOG_LEVEL=3\n"
     ]
    }
   ],
   "source": [
    "%env TF_CPP_MIN_LOG_LEVEL=3"
   ]
  },
  {
   "cell_type": "code",
   "execution_count": 3,
   "metadata": {},
   "outputs": [],
   "source": [
    "!pip install -q torch==2.0.1"
   ]
  },
  {
   "cell_type": "code",
   "execution_count": 4,
   "metadata": {},
   "outputs": [],
   "source": [
    "!pip install -q torchvision==0.15.2"
   ]
  },
  {
   "cell_type": "code",
   "execution_count": 5,
   "metadata": {},
   "outputs": [],
   "source": [
    "!pip install -q pytorch-lightning==2.0.3"
   ]
  },
  {
   "cell_type": "code",
   "execution_count": 6,
   "metadata": {},
   "outputs": [],
   "source": [
    "# Imports\n",
    "import os\n",
    "import json\n",
    "import math\n",
    "import numpy as np \n",
    "import matplotlib.pyplot as plt\n",
    "from matplotlib.colors import to_rgb\n",
    "import seaborn as sns\n",
    "import torch\n",
    "import torch.nn as nn\n",
    "import torch.nn.functional as F\n",
    "import torch.utils.data as data\n",
    "import torch.optim as optim\n",
    "import torchvision\n",
    "from torchvision.datasets import CIFAR10\n",
    "from torchvision import transforms\n",
    "import pytorch_lightning as pl\n",
    "from pytorch_lightning.callbacks import LearningRateMonitor, ModelCheckpoint\n",
    "from tqdm.notebook import tqdm\n",
    "import warnings\n",
    "warnings.filterwarnings('ignore')"
   ]
  },
  {
   "cell_type": "code",
   "execution_count": 7,
   "metadata": {},
   "outputs": [
    {
     "name": "stdout",
     "output_type": "stream",
     "text": [
      "Author: Weber Souza\n",
      "\n",
      "torchvision      : 0.15.2\n",
      "matplotlib       : 3.7.0\n",
      "json             : 2.0.9\n",
      "numpy            : 1.23.5\n",
      "pytorch_lightning: 2.0.3\n",
      "torch            : 2.0.1\n",
      "seaborn          : 0.12.2\n",
      "\n"
     ]
    }
   ],
   "source": [
    "# Versões dos pacotes usados neste jupyter notebook\n",
    "%reload_ext watermark\n",
    "%watermark -a \"Weber Souza\" --iversions"
   ]
  },
  {
   "cell_type": "markdown",
   "metadata": {},
   "source": [
    "## Carga e Processamento dos Dados"
   ]
  },
  {
   "cell_type": "code",
   "execution_count": 8,
   "metadata": {},
   "outputs": [
    {
     "name": "stderr",
     "output_type": "stream",
     "text": [
      "Global seed set to 42\n"
     ]
    },
    {
     "data": {
      "text/plain": [
       "42"
      ]
     },
     "execution_count": 8,
     "metadata": {},
     "output_type": "execute_result"
    }
   ],
   "source": [
    "# Seed\n",
    "pl.seed_everything(42)"
   ]
  },
  {
   "cell_type": "code",
   "execution_count": 9,
   "metadata": {},
   "outputs": [
    {
     "name": "stdout",
     "output_type": "stream",
     "text": [
      "Device: cuda:0\n"
     ]
    }
   ],
   "source": [
    "# Device\n",
    "device = torch.device(\"cuda:0\") if torch.cuda.is_available() else torch.device(\"cpu\")\n",
    "print(\"Device:\", device)"
   ]
  },
  {
   "cell_type": "code",
   "execution_count": 10,
   "metadata": {},
   "outputs": [],
   "source": [
    "# Pasta de dados\n",
    "DATASET_PATH = \"dados\""
   ]
  },
  {
   "cell_type": "code",
   "execution_count": 11,
   "metadata": {},
   "outputs": [],
   "source": [
    "# Pasta dos modelos\n",
    "CHECKPOINT_PATH = \"modelos\""
   ]
  },
  {
   "cell_type": "code",
   "execution_count": 12,
   "metadata": {},
   "outputs": [],
   "source": [
    "# Transformações aplicadas em cada imagem\n",
    "transform = transforms.Compose([transforms.ToTensor(),\n",
    "                                transforms.Normalize((0.5,),(0.5,))])"
   ]
  },
  {
   "cell_type": "code",
   "execution_count": 13,
   "metadata": {},
   "outputs": [
    {
     "name": "stdout",
     "output_type": "stream",
     "text": [
      "Downloading https://www.cs.toronto.edu/~kriz/cifar-10-python.tar.gz to dados/cifar-10-python.tar.gz\n"
     ]
    },
    {
     "name": "stderr",
     "output_type": "stream",
     "text": [
      "100%|█████████████████████████| 170498071/170498071 [12:10<00:00, 233392.47it/s]\n"
     ]
    },
    {
     "name": "stdout",
     "output_type": "stream",
     "text": [
      "Extracting dados/cifar-10-python.tar.gz to dados\n"
     ]
    }
   ],
   "source": [
    "# Carregando o conjunto de dados de treinamento. \n",
    "imagens_treino = CIFAR10(root = DATASET_PATH, \n",
    "                         train = True, \n",
    "                         transform = transform, \n",
    "                         download = True)"
   ]
  },
  {
   "cell_type": "code",
   "execution_count": 14,
   "metadata": {},
   "outputs": [
    {
     "name": "stderr",
     "output_type": "stream",
     "text": [
      "Global seed set to 42\n"
     ]
    },
    {
     "data": {
      "text/plain": [
       "42"
      ]
     },
     "execution_count": 14,
     "metadata": {},
     "output_type": "execute_result"
    }
   ],
   "source": [
    "pl.seed_everything(42)"
   ]
  },
  {
   "cell_type": "code",
   "execution_count": 15,
   "metadata": {},
   "outputs": [],
   "source": [
    "# Divide os dados de treino em treino e validação\n",
    "dataset_treino, dataset_valid = torch.utils.data.random_split(imagens_treino, [45000, 5000])"
   ]
  },
  {
   "cell_type": "code",
   "execution_count": 16,
   "metadata": {},
   "outputs": [
    {
     "name": "stdout",
     "output_type": "stream",
     "text": [
      "Files already downloaded and verified\n"
     ]
    }
   ],
   "source": [
    "# Carregando o conjunto de dados de teste\n",
    "dataset_teste = CIFAR10(root = DATASET_PATH, \n",
    "                        train = False, \n",
    "                        transform = transform, \n",
    "                        download = True)"
   ]
  },
  {
   "cell_type": "markdown",
   "metadata": {},
   "source": [
    "Agora definimos os dataloaders."
   ]
  },
  {
   "cell_type": "code",
   "execution_count": 17,
   "metadata": {},
   "outputs": [],
   "source": [
    "loader_treino = data.DataLoader(dataset_treino, \n",
    "                                batch_size = 256, \n",
    "                                shuffle = True, \n",
    "                                drop_last = True, \n",
    "                                pin_memory = True, \n",
    "                                num_workers = 4)"
   ]
  },
  {
   "cell_type": "code",
   "execution_count": 18,
   "metadata": {},
   "outputs": [],
   "source": [
    "loader_valid = data.DataLoader(dataset_valid, \n",
    "                               batch_size = 256, \n",
    "                               shuffle = False, \n",
    "                               drop_last = False, \n",
    "                               num_workers = 4)"
   ]
  },
  {
   "cell_type": "code",
   "execution_count": 19,
   "metadata": {},
   "outputs": [],
   "source": [
    "loader_teste = data.DataLoader(dataset_teste, \n",
    "                               batch_size = 256, \n",
    "                               shuffle = False, \n",
    "                               drop_last = False, \n",
    "                               num_workers = 4)"
   ]
  },
  {
   "cell_type": "code",
   "execution_count": 20,
   "metadata": {},
   "outputs": [],
   "source": [
    "# Função para obter uma imagem\n",
    "def get_train_images(num):\n",
    "    return torch.stack([imagens_treino[i][0] for i in range(num)], dim = 0)"
   ]
  },
  {
   "cell_type": "markdown",
   "metadata": {},
   "source": [
    "## Construindo o Modelo \n",
    "\n",
    "Em geral, um autoencoder consiste em um **encoder** que mapeia a entrada $x$ para um vetor de recursos de menor dimensão $z$ e um **decoder** que reconstrói a entrada $\\hat{x}$ de $z$. \n",
    "\n",
    "Treinamos o modelo comparando $x$ com $\\hat{x}$ e otimizando os parâmetros para aumentar a similaridade entre $x$ e $\\hat{x}$. Veja abaixo uma pequena ilustração da estrutura do autoencoder."
   ]
  },
  {
   "cell_type": "markdown",
   "metadata": {},
   "source": [
    "<center width=\"100%\"><img src=\"imagens/autoencoder_visualization.svg\" style=\"display: block; margin-left: auto; margin-right: auto;\" width=\"650px\"/></center>"
   ]
  },
  {
   "cell_type": "markdown",
   "metadata": {},
   "source": [
    "### Codificador (Encoder)\n",
    "\n",
    "Primeiro começamos implementando o codificador. O codificador consiste efetivamente em uma rede convolucional profunda, onde reduzimos a escala da imagem camada por camada usando convoluções escalonadas. Depois de reduzir a escala da imagem três vezes, achatamos os recursos e aplicamos camadas lineares. A representação latente $z$ é, portanto, um vetor de tamanho *d*."
   ]
  },
  {
   "cell_type": "code",
   "execution_count": 21,
   "metadata": {},
   "outputs": [],
   "source": [
    "# Codificador\n",
    "class Encoder(nn.Module):\n",
    "    \n",
    "    def __init__(self, \n",
    "                 num_input_channels : int, \n",
    "                 base_channel_size : int, \n",
    "                 latent_dim : int, \n",
    "                 act_fn : object = nn.GELU):\n",
    "\n",
    "        super().__init__()\n",
    "        \n",
    "        c_hid = base_channel_size\n",
    "        \n",
    "        self.net = nn.Sequential(\n",
    "            \n",
    "            # https://www.cs.toronto.edu/~kriz/cifar.html\n",
    "            # 32x32 => 16x16\n",
    "            nn.Conv2d(num_input_channels, \n",
    "                      c_hid, \n",
    "                      kernel_size = 3, \n",
    "                      padding = 1, \n",
    "                      stride = 2), \n",
    "            \n",
    "            act_fn(),\n",
    "            \n",
    "            nn.Conv2d(c_hid, \n",
    "                      c_hid, \n",
    "                      kernel_size = 3, \n",
    "                      padding = 1),\n",
    "            \n",
    "            act_fn(),\n",
    "            \n",
    "            # 16x16 => 8x8\n",
    "            nn.Conv2d(c_hid, \n",
    "                      2*c_hid, \n",
    "                      kernel_size = 3, \n",
    "                      padding = 1, \n",
    "                      stride = 2), \n",
    "            \n",
    "            act_fn(),\n",
    "            \n",
    "            nn.Conv2d(2*c_hid, \n",
    "                      2*c_hid, \n",
    "                      kernel_size = 3, \n",
    "                      padding = 1),\n",
    "            \n",
    "            act_fn(),\n",
    "            \n",
    "            # 8x8 => 4x4\n",
    "            nn.Conv2d(2*c_hid, \n",
    "                      2*c_hid, \n",
    "                      kernel_size = 3, \n",
    "                      padding = 1, \n",
    "                      stride = 2), \n",
    "            \n",
    "            act_fn(),\n",
    "            \n",
    "            nn.Flatten(),\n",
    "            \n",
    "            nn.Linear(2*16*c_hid, \n",
    "                      latent_dim)\n",
    "        )\n",
    "    \n",
    "    def forward(self, x):\n",
    "        return self.net(x)"
   ]
  },
  {
   "cell_type": "markdown",
   "metadata": {},
   "source": [
    "Observe que não aplicamos a normalização em lote aqui. Isso ocorre porque queremos que a codificação de cada imagem seja independente de todas as outras imagens. Caso contrário, podemos introduzir correlações na codificação ou decodificação, o que não queremos ter. \n",
    "\n",
    "Em algumas implementações ainda é possível ver a Batch Normalization sendo utilizada, pois ela também pode servir como uma forma de regularização. No entanto, a melhor prática é usar outras técnicas de normalização, se necessário, como normalização de instância ou normalização de camada. Dado o pequeno tamanho do modelo, podemos negligenciar a normalização por enquanto."
   ]
  },
  {
   "cell_type": "markdown",
   "metadata": {},
   "source": [
    "### Decodificador (Decoder)\n",
    "\n",
    "O decodificador é uma versão espelhada e invertida do codificador. A única diferença é que substituímos as convoluções strided por convoluções transpostas (ou seja, deconvoluções) para melhorar os recursos. \n",
    "\n",
    "As convoluções transpostas podem ser imaginadas como adicionando o passo à entrada em vez da saída e, portanto, podem aumentar a escala da entrada. Para uma ilustração de uma camada `nn.ConvTranspose2d` com tamanho de kernel 3, passo 2 e preenchimento 1, veja abaixo (fonte da imagem - [Vincent Dumoulin and Francesco Visin](https://arxiv.org/abs/1603.07285)):\n",
    "\n",
    "<center width=\"100%\"><img src=\"imagens/deconvolution.gif\" width=\"250px\"></center>\n",
    "\n",
    "Você vê que para uma entrada de tamanho $3\\times3$, obtemos uma saída de $5\\times5$. No entanto, para realmente ter uma operação reversa da convolução, precisamos garantir que a camada dimensione a forma de entrada por um fator de 2 (por exemplo, $4\\times4\\to8\\times8$). Para isso, podemos especificar o parâmetro `output_padding` que adiciona valores adicionais à forma de saída. Observe que não executamos preenchimento com zeros com isso, mas aumentamos a forma de saída para cálculo.\n",
    "\n",
    "Em geral, o decodificador pode ser implementado da seguinte forma:"
   ]
  },
  {
   "cell_type": "code",
   "execution_count": 22,
   "metadata": {},
   "outputs": [],
   "source": [
    "# Decodificador\n",
    "class Decoder(nn.Module):\n",
    "    \n",
    "    def __init__(self, \n",
    "                 num_input_channels : int, \n",
    "                 base_channel_size : int, \n",
    "                 latent_dim : int, \n",
    "                 act_fn : object = nn.GELU):\n",
    "\n",
    "        super().__init__()\n",
    "        \n",
    "        c_hid = base_channel_size\n",
    "        \n",
    "        self.linear = nn.Sequential(\n",
    "            nn.Linear(latent_dim, 2*16*c_hid), # input vetor latent\n",
    "            act_fn()\n",
    "        )\n",
    "        \n",
    "        self.net = nn.Sequential(\n",
    "            \n",
    "            # 4x4 => 8x8\n",
    "            nn.ConvTranspose2d(2*c_hid, \n",
    "                               2*c_hid, \n",
    "                               kernel_size = 3, \n",
    "                               output_padding = 1, \n",
    "                               padding = 1, \n",
    "                               stride = 2), \n",
    "            \n",
    "            act_fn(),\n",
    "            \n",
    "            nn.Conv2d(2*c_hid, \n",
    "                      2*c_hid, \n",
    "                      kernel_size = 3, \n",
    "                      padding = 1),\n",
    "            \n",
    "            act_fn(),\n",
    "            \n",
    "            # 8x8 => 16x16\n",
    "            nn.ConvTranspose2d(2*c_hid, \n",
    "                               c_hid, \n",
    "                               kernel_size = 3, \n",
    "                               output_padding = 1, \n",
    "                               padding = 1, \n",
    "                               stride = 2), \n",
    "            \n",
    "            act_fn(),\n",
    "            \n",
    "            nn.Conv2d(c_hid, c_hid, kernel_size = 3, padding = 1),\n",
    "            \n",
    "            act_fn(),\n",
    "            \n",
    "            # 16x16 => 32x32\n",
    "            nn.ConvTranspose2d(c_hid, \n",
    "                               num_input_channels, \n",
    "                               kernel_size = 3, \n",
    "                               output_padding = 1, \n",
    "                               padding = 1, \n",
    "                               stride = 2), \n",
    "            \n",
    "            # As imagens de entrada são dimensionadas entre -1 e 1, portanto, a saída também deve ser limitada\n",
    "            nn.Tanh() \n",
    "        )\n",
    "    \n",
    "    def forward(self, x):\n",
    "        x = self.linear(x)\n",
    "        x = x.reshape(x.shape[0], -1, 4, 4)\n",
    "        x = self.net(x)\n",
    "        return x"
   ]
  },
  {
   "cell_type": "markdown",
   "metadata": {},
   "source": [
    "As redes de codificador e decodificador que escolhemos aqui são relativamente simples. Normalmente, redes mais complexas são aplicadas, especialmente quando se usa uma arquitetura baseada em ResNet. Por exemplo, consulte [VQ-VAE](https://arxiv.org/abs/1711.00937) e [NVAE](https://arxiv.org/abs/2007.03898) (embora os artigos discutam arquiteturas para Variational Autoencoders, eles podem ser igualmente aplicados a Deep Autoencoders)."
   ]
  },
  {
   "cell_type": "markdown",
   "metadata": {},
   "source": [
    "### Construção dos Módulos com Lightning - Deep Autoencoder\n",
    "\n",
    "Em uma etapa final, adicionamos o codificador e o decodificador juntos na arquitetura do Deep Autoencoder. Definimos o modelo como PyTorch Lightning Module para simplificar o código de treinamento necessário:"
   ]
  },
  {
   "cell_type": "code",
   "execution_count": null,
   "metadata": {},
   "outputs": [],
   "source": [
    "# DeepAutoencoder\n",
    "class DeepAutoencoder(pl.LightningModule):\n",
    "    \n",
    "    def __init__(self, \n",
    "                 base_channel_size: int, \n",
    "                 latent_dim: int, \n",
    "                 encoder_class : object = Encoder,\n",
    "                 decoder_class : object = Decoder,\n",
    "                 num_input_channels: int = 3, \n",
    "                 width: int = 32, \n",
    "                 height: int = 32):\n",
    "        \n",
    "        super().__init__()\n",
    "        \n",
    "        # Salvando os hiperparâmetros\n",
    "        self.save_hyperparameters() \n",
    "        \n",
    "        # Criando encoder e decoder\n",
    "        self.encoder = encoder_class(num_input_channels, base_channel_size, latent_dim)\n",
    "        self.decoder = decoder_class(num_input_channels, base_channel_size, latent_dim)\n",
    "        \n",
    "        # Exemplo de matriz de entrada necessária para visualizar o gráfico da rede\n",
    "        self.example_input_array = torch.zeros(2, num_input_channels, width, height)\n",
    "        \n",
    "    def forward(self, x):\n",
    "        z = self.encoder(x)\n",
    "        x_hat = self.decoder(z)\n",
    "        return x_hat\n",
    "    \n",
    "    def _get_reconstruction_loss(self, batch):\n",
    "        x, _ = batch \n",
    "        x_hat = self.forward(x)\n",
    "        loss = F.mse_loss(x, x_hat, reduction = \"none\")\n",
    "        loss = loss.sum(dim=[1,2,3]).mean(dim = [0])\n",
    "        return loss\n",
    "    \n",
    "    def configure_optimizers(self):\n",
    "        optimizer = optim.Adam(self.parameters(), lr = 1e-3)\n",
    "        scheduler = optim.lr_scheduler.ReduceLROnPlateau(optimizer, \n",
    "                                                         mode = 'min', \n",
    "                                                         factor = 0.2, \n",
    "                                                         patience = 20, \n",
    "                                                         min_lr = 5e-5)\n",
    "        \n",
    "        return {\"optimizer\": optimizer, \"lr_scheduler\": scheduler, \"monitor\": \"val_loss\"}\n",
    "    \n",
    "    def training_step(self, batch, batch_idx):\n",
    "        loss = self._get_reconstruction_loss(batch)                             \n",
    "        self.log('train_loss', loss)\n",
    "        return loss\n",
    "    \n",
    "    def validation_step(self, batch, batch_idx):\n",
    "        loss = self._get_reconstruction_loss(batch)\n",
    "        self.log('val_loss', loss)\n",
    "    \n",
    "    def test_step(self, batch, batch_idx):\n",
    "        loss = self._get_reconstruction_loss(batch)\n",
    "        self.log('test_loss', loss)"
   ]
  },
  {
   "cell_type": "markdown",
   "metadata": {},
   "source": [
    "Para a função de perda, usamos o erro quadrático médio (MSE). O erro quadrático médio leva a rede a prestar atenção especial aos valores de pixel cuja estimativa está distante. Prever 127 em vez de 128 não é importante ao reconstruir, mas confundir 0 com 128 é muito pior. Observe que, ao contrário dos VAEs, não prevemos a probabilidade por valor de pixel, mas usamos uma medida de distância. Isso economiza muitos parâmetros e simplifica o treinamento. Para obter uma melhor intuição por pixel, relatamos o erro quadrado somado sobre a dimensão do lote (qualquer outra média/soma leva ao mesmo resultado/parâmetros).\n",
    "\n",
    "No entanto, MSE também tem algumas desvantagens consideráveis. Normalmente, o MSE leva a imagens borradas onde pequenos ruídos/padrões de alta frequência são removidos, pois causam um erro muito baixo. \n",
    "\n",
    "Para garantir imagens realistas a serem reconstruídas, pode-se combinar Generative Adversarial Networks com Autoencoders como feito em vários trabalhos (por exemplo, veja [aqui](https://arxiv.org/abs/1704.02304), [aqui](https://arxiv.org/abs/1511.05644) ou estes [slides](http://elarosca.net/slides/iccv_autoencoder_gans.pdf)). \n",
    "\n",
    "Além disso, comparar duas imagens usando MSE não reflete necessariamente sua semelhança visual. Por exemplo, suponha que o modelo reconstrói uma imagem deslocada em um pixel para a direita e para baixo. Embora as imagens sejam quase idênticas, podemos obter uma perda maior do que prever um valor de pixel constante para metade da imagem (veja o código abaixo). Uma solução de exemplo para esse problema inclui o uso de uma CNN separada e pré-treinada e o uso de uma distância de recursos visuais em camadas inferiores como uma medida de distância em vez da comparação original em nível de pixel."
   ]
  },
  {
   "cell_type": "code",
   "execution_count": 23,
   "metadata": {},
   "outputs": [
    {
     "data": {
      "image/png": "[encoded data removed]",
      "text/plain": [
       "<Figure size 400x200 with 1 Axes>"
      ]
     },
     "metadata": {},
     "output_type": "display_data"
    },
    {
     "data": {
      "image/png": "[encoded data removed]",
      "text/plain": [
       "<Figure size 400x200 with 1 Axes>"
      ]
     },
     "metadata": {},
     "output_type": "display_data"
    },
    {
     "data": {
      "image/png": "[encoded data removed]",
      "text/plain": [
       "<Figure size 400x200 with 1 Axes>"
      ]
     },
     "metadata": {},
     "output_type": "display_data"
    },
    {
     "data": {
      "image/png": "[encoded data removed]",
      "text/plain": [
       "<Figure size 400x200 with 1 Axes>"
      ]
     },
     "metadata": {},
     "output_type": "display_data"
    }
   ],
   "source": [
    "# Função para comparar imagens\n",
    "def compare_imgs(img1, img2, title_prefix=\"\"):\n",
    "\n",
    "    loss = F.mse_loss(img1, img2, reduction = \"sum\")\n",
    "\n",
    "    grid = torchvision.utils.make_grid(torch.stack([img1, img2], dim = 0), nrow = 2, normalize = True, range = (-1,1))\n",
    "    grid = grid.permute(1, 2, 0)\n",
    "    plt.figure(figsize=(4,2))\n",
    "    plt.title(f\"{title_prefix} Loss: {loss.item():4.2f}\")\n",
    "    plt.imshow(grid)\n",
    "    plt.axis('off')\n",
    "    plt.show()\n",
    "\n",
    "for i in range(2):\n",
    "\n",
    "    img, _ = imagens_treino[i]\n",
    "    img_mean = img.mean(dim=[1,2], keepdims=True)\n",
    "\n",
    "    # Shift da imagem por 1 pixel\n",
    "    SHIFT = 1\n",
    "    img_shifted = torch.roll(img, shifts = SHIFT, dims = 1)\n",
    "    img_shifted = torch.roll(img_shifted, shifts = SHIFT, dims = 2)\n",
    "    img_shifted[:,:1,:] = img_mean\n",
    "    img_shifted[:,:,:1] = img_mean\n",
    "    compare_imgs(img, img_shifted, \"Shifted -\")\n",
    "\n",
    "    # Definir metade da imagem para zero\n",
    "    img_masked = img.clone()\n",
    "    img_masked[:,:img_masked.shape[1]//2,:] = img_mean\n",
    "    compare_imgs(img, img_masked, \"Masked -\")"
   ]
  },
  {
   "cell_type": "markdown",
   "metadata": {},
   "source": [
    "## Treinando o Modelo\n",
    "\n",
    "Durante o treinamento, queremos acompanhar o progresso do aprendizado vendo as reconstruções feitas pelo nosso modelo. Para isso, implementamos um objeto callback no PyTorch Lightning que adicionará reconstruções a cada $N$ épocas."
   ]
  },
  {
   "cell_type": "code",
   "execution_count": 24,
   "metadata": {},
   "outputs": [],
   "source": [
    "# Callback\n",
    "class GenerateCallback(pl.Callback):\n",
    "    \n",
    "    def __init__(self, input_imgs, every_n_epochs=1):\n",
    "        super().__init__()\n",
    "        self.input_imgs = input_imgs \n",
    "        self.every_n_epochs = every_n_epochs \n",
    "        \n",
    "    def on_train_epoch_end(self, trainer, pl_module):\n",
    "        \n",
    "        if trainer.current_epoch % self.every_n_epochs == 0:\n",
    "            \n",
    "            # Reconstrói a imagem\n",
    "            input_imgs = self.input_imgs.to(pl_module.device)\n",
    "            \n",
    "            with torch.no_grad():\n",
    "                pl_module.eval()\n",
    "                reconst_imgs = pl_module(input_imgs)\n",
    "                pl_module.train()\n",
    "            \n",
    "            # Plot e log\n",
    "            imgs = torch.stack([input_imgs, reconst_imgs], dim = 1).flatten(0,1)\n",
    "            grid = torchvision.utils.make_grid(imgs, nrow = 2, normalize = True, range = (-1,1))\n",
    "            trainer.logger.experiment.add_image(\"Reconstructions\", grid, global_step = trainer.global_step)"
   ]
  },
  {
   "cell_type": "markdown",
   "metadata": {},
   "source": [
    "Agora escreveremos uma função de treinamento que nos permite treinar o modelo com dimensionalidade latente diferente e retornar a pontuação em validação e teste. "
   ]
  },
  {
   "cell_type": "code",
   "execution_count": 25,
   "metadata": {},
   "outputs": [],
   "source": [
    "# Função de treinamento\n",
    "def treina_modelo(latent_dim):\n",
    "    \n",
    "    trainer = pl.Trainer(default_root_dir = os.path.join(CHECKPOINT_PATH, f\"cifar10_{latent_dim}\"), \n",
    "                         accelerator = \"gpu\" if str(device).startswith(\"cuda\") else \"cpu\",\n",
    "                         devices = 1,\n",
    "                         max_epochs = 500, \n",
    "                         callbacks = [ModelCheckpoint(save_weights_only = True),\n",
    "                                      GenerateCallback(get_train_images(8), every_n_epochs = 10),\n",
    "                                      LearningRateMonitor(\"epoch\")])\n",
    "    \n",
    "    trainer.logger._log_graph = True         \n",
    "    trainer.logger._default_hp_metric = None \n",
    "    \n",
    "    pretrained_filename = os.path.join(CHECKPOINT_PATH, f\"cifar10_{latent_dim}.ckpt\")\n",
    "    \n",
    "    # Se encontra o modelo já treinado, ele será usado. Caso contrário, será feito o treinamento.\n",
    "    if os.path.isfile(pretrained_filename):\n",
    "        print(\"Encontrei o modelo treinado. Carregando...\")\n",
    "        model = DeepAutoencoder.load_from_checkpoint(pretrained_filename)\n",
    "    else:\n",
    "        print(\"Iniciando o treinamento...\")\n",
    "        model = DeepAutoencoder(base_channel_size = 32, latent_dim = latent_dim)\n",
    "        trainer.fit(model, loader_treino, loader_valid)\n",
    "    \n",
    "\n",
    "    val_result = trainer.test(model, loader_valid, verbose = False)\n",
    "    test_result = trainer.test(model, loader_teste, verbose = False)\n",
    "    \n",
    "    result = {\"teste\": test_result, \"valid\": val_result}\n",
    "    \n",
    "    return model, result"
   ]
  },
  {
   "cell_type": "markdown",
   "metadata": {},
   "source": [
    "## Comparando a Dimensionalidade Latente\n",
    "\n",
    "Ao treinar um autoencoder, precisamos escolher uma dimensionalidade para a representação latente $z$. \n",
    "\n",
    "Quanto maior a dimensionalidade latente, melhor esperamos que seja a reconstrução. No entanto, a ideia dos autoencoders é *comprimir* os dados. Portanto, também estamos interessados em manter a dimensionalidade baixa. \n",
    "\n",
    "Para encontrar a melhor compensação, podemos treinar vários modelos com diferentes dimensionalidades latentes. A entrada original tem $32\\times 32\\times 3 = 3072$ pixels. Tendo isso em mente, uma escolha razoável para a dimensionalidade latente pode estar entre 64 e 384:"
   ]
  },
  {
   "cell_type": "code",
   "execution_count": null,
   "metadata": {},
   "outputs": [],
   "source": [
    "# Nível de precisão das operações de multiplicação\n",
    "torch.set_float32_matmul_precision('high')"
   ]
  },
  {
   "cell_type": "code",
   "execution_count": null,
   "metadata": {},
   "outputs": [],
   "source": [
    "# Dicionário\n",
    "model_dict = {}"
   ]
  },
  {
   "cell_type": "code",
   "execution_count": null,
   "metadata": {},
   "outputs": [],
   "source": [
    "# Loop\n",
    "for latent_dim in [64, 128, 256, 384]:\n",
    "    model_ld, result_ld = treina_modelo(latent_dim)\n",
    "    model_dict[latent_dim] = {\"model\": model_ld, \"result\": result_ld}"
   ]
  },
  {
   "cell_type": "markdown",
   "metadata": {},
   "source": [
    "Depois de treinar os modelos, podemos plotar a perda de reconstrução sobre a dimensionalidade latente para obter uma intuição de como essas duas propriedades estão correlacionadas:"
   ]
  },
  {
   "cell_type": "code",
   "execution_count": null,
   "metadata": {},
   "outputs": [],
   "source": [
    "latent_dims = sorted([k for k in model_dict])\n",
    "val_scores = [model_dict[k][\"result\"][\"valid\"][0][\"test_loss\"] for k in latent_dims]"
   ]
  },
  {
   "cell_type": "code",
   "execution_count": null,
   "metadata": {},
   "outputs": [],
   "source": [
    "# Plot\n",
    "fig = plt.figure(figsize = (6,4))\n",
    "plt.plot(latent_dims, \n",
    "         val_scores, '--', \n",
    "         color = \"#000\", \n",
    "         marker = \"*\", \n",
    "         markeredgecolor = \"#000\", \n",
    "         markerfacecolor = \"y\", \n",
    "         markersize = 16)\n",
    "plt.xscale(\"log\")\n",
    "plt.xticks(latent_dims, labels=latent_dims)\n",
    "plt.title(\"Erro de reconstrução sobre dimensionalidade latente\", fontsize=14)\n",
    "plt.xlabel(\"Dimensionalidade latente\")\n",
    "plt.ylabel(\"Erro de reconstrução\")\n",
    "plt.minorticks_off()\n",
    "plt.ylim(0,100)\n",
    "plt.show()"
   ]
  },
  {
   "cell_type": "markdown",
   "metadata": {},
   "source": [
    "Como esperávamos inicialmente, a perda de reconstrução diminui com o aumento da dimensionalidade latente. \n",
    "\n",
    "Para nosso modelo e configuração, as duas propriedades parecem ser exponencialmente correlacionadas. Para entender o que significam essas diferenças no erro de reconstrução, podemos visualizar reconstruções de exemplo dos quatro modelos. Para simplificar, visualizamos quatro imagens de treinamento do CIFAR10 que já vimos antes. Para modelos maiores que podem ter overfit, é recomendável usar imagens do conjunto de validação."
   ]
  },
  {
   "cell_type": "code",
   "execution_count": null,
   "metadata": {},
   "outputs": [],
   "source": [
    "# Função de visualização\n",
    "def visualize_reconstructions(model, input_imgs):\n",
    "\n",
    "    model.eval()\n",
    "    \n",
    "    with torch.no_grad():\n",
    "        reconst_imgs = model(input_imgs.to(model.device))\n",
    "    \n",
    "    reconst_imgs = reconst_imgs.cpu()\n",
    "    \n",
    "    # Plot\n",
    "    imgs = torch.stack([input_imgs, reconst_imgs], dim = 1).flatten(0,1)\n",
    "    grid = torchvision.utils.make_grid(imgs, nrow = 4, normalize = True, range = (-1,1))\n",
    "    grid = grid.permute(1, 2, 0)\n",
    "    plt.figure(figsize=(7,4.5))\n",
    "    plt.title(f\"Reconstruído a partir de {model.hparams.latent_dim} latentes\")\n",
    "    plt.imshow(grid)\n",
    "    plt.axis('off')\n",
    "    plt.show()"
   ]
  },
  {
   "cell_type": "code",
   "execution_count": null,
   "metadata": {},
   "outputs": [],
   "source": [
    "input_imgs = get_train_images(4)"
   ]
  },
  {
   "cell_type": "code",
   "execution_count": null,
   "metadata": {},
   "outputs": [],
   "source": [
    "# Loop\n",
    "for latent_dim in model_dict:\n",
    "    visualize_reconstructions(model_dict[latent_dim][\"model\"], input_imgs)"
   ]
  },
  {
   "cell_type": "markdown",
   "metadata": {},
   "source": [
    "Claramente, a menor dimensionalidade latente só pode salvar informações sobre a forma e a cor do objeto, mas a imagem reconstruída é extremamente embaçada e é difícil reconhecer o objeto original na reconstrução. \n",
    "\n",
    "Com 128 recursos, podemos reconhecer algumas formas novamente, embora a imagem permaneça embaçada. Os modelos com as bidimensionalidades mais altas reconstroem as imagens muito bem. A diferença entre 256 e 384 é marginal à primeira vista, mas pode ser notada ao comparar, por exemplo, os fundos da primeira imagem (as características 384 modelam mais o padrão do que 256)."
   ]
  },
  {
   "cell_type": "markdown",
   "metadata": {},
   "source": [
    "## Explorando Limitações do Modelo\n",
    "\n",
    "Antes de continuar com as aplicações do Autoencoder, podemos explorar algumas limitações do nosso modelo. \n",
    "\n",
    "Por exemplo, o que acontece se tentarmos reconstruir uma imagem que está claramente fora da distribuição do nosso conjunto de dados? Esperamos que o decodificador tenha aprendido alguns padrões comuns no conjunto de dados e, portanto, pode falhar em reconstruir imagens que não seguem esses padrões.\n",
    "\n",
    "A primeira experiência que podemos tentar é reconstruir o ruído. Criamos, portanto, duas imagens cujos pixels são amostrados aleatoriamente a partir de uma distribuição uniforme sobre os valores dos pixels e visualizamos a reconstrução do modelo (fique à vontade para testar diferentes dimensionalidades latentes):"
   ]
  },
  {
   "cell_type": "code",
   "execution_count": null,
   "metadata": {},
   "outputs": [],
   "source": [
    "rand_imgs = torch.rand(2, 3, 32, 32) * 2 - 1\n",
    "visualize_reconstructions(model_dict[256][\"model\"], rand_imgs)"
   ]
  },
  {
   "cell_type": "markdown",
   "metadata": {},
   "source": [
    "A reconstrução do ruído é bastante pobre e parece apresentar alguns padrões grosseiros. Como a entrada não segue os padrões do conjunto de dados CIFAR, o modelo tem problemas para reconstruí-la com precisão.\n",
    "\n",
    "Também podemos verificar o quão bem o modelo pode reconstruir outros padrões codificados manualmente:"
   ]
  },
  {
   "cell_type": "code",
   "execution_count": null,
   "metadata": {},
   "outputs": [],
   "source": [
    "plain_imgs = torch.zeros(4, 3, 32, 32)\n",
    "\n",
    "# Canal de cor única\n",
    "plain_imgs[1,0] = 1 \n",
    "\n",
    "# Checkboard\n",
    "plain_imgs[2,:,:16,:16] = 1\n",
    "plain_imgs[2,:,16:,16:] = -1\n",
    "\n",
    "# Progressão de cores\n",
    "xx, yy = torch.meshgrid(torch.linspace(-1,1,32), torch.linspace(-1,1,32))\n",
    "plain_imgs[3,0,:,:] = xx\n",
    "plain_imgs[3,1,:,:] = yy"
   ]
  },
  {
   "cell_type": "code",
   "execution_count": null,
   "metadata": {},
   "outputs": [],
   "source": [
    "visualize_reconstructions(model_dict[256][\"model\"], plain_imgs)"
   ]
  },
  {
   "cell_type": "markdown",
   "metadata": {},
   "source": [
    "As imagens simples e constantes são reconstruídas relativamente bem, embora o canal de cor única contenha algum ruído perceptível. As bordas duras do padrão do Checkboard não são tão nítidas quanto o pretendido, assim como a progressão de cores, porque esses padrões nunca ocorrem nas imagens do mundo real do CIFAR.\n",
    "\n",
    "Em geral, os autoencoders tendem a falhar na reconstrução de ruídos de alta frequência (ou seja, grandes mudanças repentinas em poucos pixels) devido à escolha do MSE como função de perda. \n",
    "\n",
    "Pequenos desalinhamentos no decodificador podem levar a grandes perdas para que o modelo se ajuste ao valor/média esperado nessas regiões. Para ruídos de baixa frequência, um desalinhamento de alguns pixels não resulta em uma grande diferença na imagem original. No entanto, quanto maior a dimensionalidade latente se torna, mais desse ruído de alta frequência pode ser reconstruído com precisão."
   ]
  },
  {
   "cell_type": "markdown",
   "metadata": {},
   "source": [
    "## Gerando Novas Imagens\n",
    "\n",
    "o que aconteceria se realmente inseríssemos um vetor latente amostrado aleatoriamente no decodificador? Vamos descobrir abaixo:"
   ]
  },
  {
   "cell_type": "code",
   "execution_count": null,
   "metadata": {},
   "outputs": [],
   "source": [
    "model = model_dict[256][\"model\"]"
   ]
  },
  {
   "cell_type": "code",
   "execution_count": null,
   "metadata": {},
   "outputs": [],
   "source": [
    "latent_vectors = torch.randn(8, model.hparams.latent_dim, device=model.device)"
   ]
  },
  {
   "cell_type": "code",
   "execution_count": null,
   "metadata": {},
   "outputs": [],
   "source": [
    "with torch.no_grad():\n",
    "    imgs = model.decoder(latent_vectors)\n",
    "    imgs = imgs.cpu()"
   ]
  },
  {
   "cell_type": "code",
   "execution_count": null,
   "metadata": {},
   "outputs": [],
   "source": [
    "# Grid\n",
    "grid = torchvision.utils.make_grid(imgs, nrow = 4, normalize = True, range = (-1,1), pad_value = 0.5)\n",
    "grid = grid.permute(1, 2, 0)\n",
    "plt.figure(figsize = (8,5))\n",
    "plt.imshow(grid)\n",
    "plt.axis('off')\n",
    "plt.show()"
   ]
  },
  {
   "cell_type": "markdown",
   "metadata": {},
   "source": [
    "Como podemos ver, as imagens geradas parecem mais arte do que imagens realistas. Como o autoencoder foi autorizado a estruturar o espaço latente da maneira que melhor se adaptasse à reconstrução, não há incentivo para mapear todos os vetores latentes possíveis para imagens realistas. Além disso, a distribuição no espaço latente é desconhecida para nós e não segue necessariamente uma distribuição normal multivariada. "
   ]
  },
  {
   "cell_type": "markdown",
   "metadata": {},
   "source": [
    "## Encontrando Imagens Visualmente Semelhantes\n",
    "\n",
    "Uma aplicação dos autoencoders é construir um mecanismo de pesquisa baseado em imagens para recuperar imagens visualmente semelhantes. Isso pode ser feito representando todas as imagens como sua dimensionalidade latente e encontrando as imagens $K$ mais próximas neste domínio. \n",
    "\n",
    "O primeiro passo para tal mecanismo de busca é codificar todas as imagens em $z$. A seguir, usaremos o conjunto de treinamento como corpus de busca e o conjunto de teste como consultas ao sistema."
   ]
  },
  {
   "cell_type": "code",
   "execution_count": null,
   "metadata": {},
   "outputs": [],
   "source": [
    "# Se você quiser tentar uma dimensionalidade latente diferente, mude aqui!\n",
    "model = model_dict[128][\"model\"] "
   ]
  },
  {
   "cell_type": "code",
   "execution_count": null,
   "metadata": {},
   "outputs": [],
   "source": [
    "def embed_imgs(model, data_loader):\n",
    "    \n",
    "    # Encode de todas as imagens no data_laoder usando o modelo e retorna imagens e codificações\n",
    "    img_list, embed_list = [], []\n",
    "    model.eval()\n",
    "    for imgs, _ in tqdm(data_loader, desc = \"Encoding images\", leave = False):\n",
    "        \n",
    "        with torch.no_grad():\n",
    "            z = model.encoder(imgs.to(model.device))\n",
    "        \n",
    "        img_list.append(imgs)\n",
    "        \n",
    "        embed_list.append(z)\n",
    "    \n",
    "    return (torch.cat(img_list, dim = 0), torch.cat(embed_list, dim = 0))"
   ]
  },
  {
   "cell_type": "code",
   "execution_count": null,
   "metadata": {},
   "outputs": [],
   "source": [
    "train_img_embeds = embed_imgs(model, loader_treino)\n",
    "test_img_embeds = embed_imgs(model, loader_teste)"
   ]
  },
  {
   "cell_type": "markdown",
   "metadata": {},
   "source": [
    "Depois de codificar todas as imagens, só precisamos escrever uma função que encontre as imagens $K$ mais próximas e retorne. Usamos a distância euclidiana aqui, mas outras distâncias semelhantes ao cosseno também podem ser usadas."
   ]
  },
  {
   "cell_type": "code",
   "execution_count": null,
   "metadata": {},
   "outputs": [],
   "source": [
    "# Função do sistema de similaridade\n",
    "def find_similar_images(query_img, query_z, key_embeds, K = 8):\n",
    "    dist = torch.cdist(query_z[None,:], key_embeds[1], p = 2)\n",
    "    dist = dist.squeeze(dim=0)\n",
    "    dist, indices = torch.sort(dist)\n",
    "    imgs_to_display = torch.cat([query_img[None], key_embeds[0][indices[:K]]], dim = 0)\n",
    "    grid = torchvision.utils.make_grid(imgs_to_display, nrow = K+1, normalize = True, range = (-1,1))\n",
    "    grid = grid.permute(1, 2, 0)\n",
    "    plt.figure(figsize = (12,3))\n",
    "    plt.imshow(grid)\n",
    "    plt.axis('off')\n",
    "    plt.show()"
   ]
  },
  {
   "cell_type": "code",
   "execution_count": null,
   "metadata": {},
   "outputs": [],
   "source": [
    "# Plot das imagens mais próximas para as primeiras N imagens de teste como exemplo\n",
    "for i in range(8):\n",
    "    find_similar_images(test_img_embeds[0][i], test_img_embeds[1][i], key_embeds = train_img_embeds)"
   ]
  },
  {
   "cell_type": "markdown",
   "metadata": {},
   "source": [
    "Com base em nosso autoencoder, vemos que podemos recuperar muitas imagens semelhantes para a entrada de teste. \n",
    "\n",
    "Em particular, na linha 4, podemos identificar que algumas imagens de teste podem não ser tão diferentes do conjunto de treinamento quanto pensávamos (mesmo pôster, apenas escala/escala de cores diferentes). \n",
    "\n",
    "Também vemos que, embora não tenhamos dado nenhum rótulo ao modelo, ele pode agrupar diferentes classes em diferentes partes do espaço latente (avião + navio, animais, etc.). É por isso que os autoencoders também podem ser usados como uma estratégia de pré-treinamento para redes profundas, especialmente quando temos um grande conjunto de imagens não rotuladas (geralmente o caso). \n",
    "\n",
    "No entanto, deve-se observar que o plano de fundo ainda desempenha um papel importante nos autoencoders, mas não na classificação. Portanto, não obtemos clusters \"perfeitos\" e precisamos ajustar esses modelos para classificação."
   ]
  },
  {
   "cell_type": "markdown",
   "metadata": {},
   "source": [
    "# Fim"
   ]
  }
 ],
 "metadata": {
  "kernelspec": {
   "display_name": "Python 3 (ipykernel)",
   "language": "python",
   "name": "python3"
  },
  "language_info": {
   "codemirror_mode": {
    "name": "ipython",
    "version": 3
   },
   "file_extension": ".py",
   "mimetype": "text/x-python",
   "name": "python",
   "nbconvert_exporter": "python",
   "pygments_lexer": "ipython3",
   "version": "3.10.9"
  }
 },
 "nbformat": 4,
 "nbformat_minor": 4
}
